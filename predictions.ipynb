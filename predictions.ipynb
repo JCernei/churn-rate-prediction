{
 "cells": [
  {
   "cell_type": "code",
   "id": "initial_id",
   "metadata": {
    "collapsed": true,
    "ExecuteTime": {
     "end_time": "2024-12-09T21:13:31.620764Z",
     "start_time": "2024-12-09T21:13:31.189475Z"
    }
   },
   "source": [
    "# imports\n",
    "import pandas as pd\n",
    "from sklearn.model_selection import train_test_split, cross_val_score\n",
    "from sklearn.preprocessing import LabelEncoder, StandardScaler\n",
    "from sklearn.feature_selection import SelectKBest, f_classif, RFE\n",
    "from sklearn.ensemble import RandomForestClassifier\n",
    "from sklearn.metrics import (\n",
    "    accuracy_score, \n",
    "    precision_score, \n",
    "    recall_score, \n",
    "    f1_score, \n",
    "    confusion_matrix, \n",
    "    classification_report\n",
    ")\n",
    "import matplotlib.pyplot as plt\n",
    "import seaborn as sns"
   ],
   "outputs": [],
   "execution_count": 14
  },
  {
   "metadata": {},
   "cell_type": "markdown",
   "source": "# Churn Prediction Workflow",
   "id": "f089cc162f3933aa"
  },
  {
   "metadata": {},
   "cell_type": "markdown",
   "source": "## 1. Data Loading",
   "id": "25c14a723780a466"
  },
  {
   "metadata": {
    "ExecuteTime": {
     "end_time": "2024-12-09T21:13:31.976726Z",
     "start_time": "2024-12-09T21:13:31.684002Z"
    }
   },
   "cell_type": "code",
   "source": [
    "# Load data\n",
    "df = pd.read_csv('data/data_with_churn.csv')\n",
    "# show column names\n",
    "df.columns.tolist()"
   ],
   "id": "80278a5d8cae193a",
   "outputs": [
    {
     "data": {
      "text/plain": [
       "['contract_item_description',\n",
       " 'contract_item_internal_id',\n",
       " 'contract_item_product_category',\n",
       " 'contract_item_product_description',\n",
       " 'contract_item_support_end_date',\n",
       " 'contract_item_support_start_date',\n",
       " 'contract_item_concurrent_sessions',\n",
       " 'description',\n",
       " 'end_date_time',\n",
       " 'start_date_time',\n",
       " 'item_count',\n",
       " 'customer_earliest_start',\n",
       " 'customer_latest_end',\n",
       " 'sla',\n",
       " 'product_category',\n",
       " 'service_level_regex',\n",
       " 'otrs_version',\n",
       " 'system_type',\n",
       " 'feature_add_ons',\n",
       " 'cancellation_date',\n",
       " 'customer_country',\n",
       " 'concat_volume',\n",
       " 'concat_currency',\n",
       " 'cancellation_date_orca',\n",
       " 'end_customer_id',\n",
       " 'churn']"
      ]
     },
     "execution_count": 15,
     "metadata": {},
     "output_type": "execute_result"
    }
   ],
   "execution_count": 15
  },
  {
   "metadata": {},
   "cell_type": "markdown",
   "source": "## 2. Data Preprocessing",
   "id": "ea6c883c35d5f171"
  },
  {
   "metadata": {
    "ExecuteTime": {
     "end_time": "2024-12-09T21:13:32.399350Z",
     "start_time": "2024-12-09T21:13:32.289276Z"
    }
   },
   "cell_type": "code",
   "source": [
    "data = df.copy()\n",
    "\n",
    "# Drop datetime and category columns\n",
    "data = data.select_dtypes(exclude=['datetime64[ns]', 'category'])\n",
    "\n",
    "# drop specific columns\n",
    "data = data.drop(columns=['end_customer_id', 'contract_item_internal_id'])\n",
    "# drop columns with time\n",
    "data = data.drop(\n",
    "    columns=['start_date_time', 'end_date_time', 'contract_item_support_start_date', 'contract_item_support_end_date',\n",
    "             'customer_earliest_start', 'customer_latest_end', 'cancellation_date', 'cancellation_date_orca'])\n",
    "\n",
    "print(data.columns)\n",
    "# Identify categorical and numerical columns\n",
    "categorical_cols = [x for x in data.columns if data[x].dtype == 'object']\n",
    "numerical_cols = [x for x in data.columns if data[x].dtype in ['int64', 'float64']]\n",
    "\n",
    "# Label Encoding for categorical variables\n",
    "le = LabelEncoder()\n",
    "for col in categorical_cols:\n",
    "    data[col] = le.fit_transform(data[col].astype(str))\n",
    "\n",
    "# Prepare features and target\n",
    "features = categorical_cols + numerical_cols\n",
    "X = data[features]\n",
    "y = data['churn']\n",
    "\n",
    "# Scale numerical features\n",
    "scaler = StandardScaler()\n",
    "X[numerical_cols] = scaler.fit_transform(X[numerical_cols])\n",
    "\n",
    "# check for missing values\n",
    "print(X.isnull().sum())\n",
    "\n",
    "# replace missing values with 0\n",
    "X = X.fillna(0)\n"
   ],
   "id": "2af39796c3d0fb56",
   "outputs": [
    {
     "name": "stdout",
     "output_type": "stream",
     "text": [
      "Index(['contract_item_description', 'contract_item_product_category',\n",
      "       'contract_item_product_description',\n",
      "       'contract_item_concurrent_sessions', 'description', 'item_count', 'sla',\n",
      "       'product_category', 'service_level_regex', 'otrs_version',\n",
      "       'system_type', 'feature_add_ons', 'customer_country', 'concat_volume',\n",
      "       'concat_currency', 'churn'],\n",
      "      dtype='object')\n",
      "contract_item_description             0\n",
      "contract_item_product_category        0\n",
      "contract_item_product_description     0\n",
      "description                           0\n",
      "sla                                   0\n",
      "product_category                      0\n",
      "service_level_regex                   0\n",
      "otrs_version                          0\n",
      "system_type                           0\n",
      "feature_add_ons                       0\n",
      "customer_country                      0\n",
      "concat_currency                       0\n",
      "contract_item_concurrent_sessions    11\n",
      "item_count                            0\n",
      "concat_volume                         1\n",
      "churn                                 0\n",
      "dtype: int64\n"
     ]
    }
   ],
   "execution_count": 16
  },
  {
   "metadata": {},
   "cell_type": "markdown",
   "source": "## 3. Feature Selection",
   "id": "2ee5c751b93ae9b2"
  },
  {
   "metadata": {
    "ExecuteTime": {
     "end_time": "2024-12-09T21:13:32.449768Z",
     "start_time": "2024-12-09T21:13:32.433378Z"
    }
   },
   "cell_type": "code",
   "source": [
    "def select_features(method='all', n_features=None):\n",
    "        \"\"\"\n",
    "        Select best features using different methods\n",
    "        \n",
    "        Parameters:\n",
    "        -----------\n",
    "        method : str, optional (default='all')\n",
    "            Feature selection method. Options:\n",
    "            - 'correlation': Select based on correlation with churn\n",
    "            - 'statistical': Use statistical F-test\n",
    "            - 'rfe': Recursive Feature Elimination\n",
    "            - 'importance': Use Random Forest feature importance\n",
    "            - 'all': Return results from all methods\n",
    "        \n",
    "        n_features : int, optional\n",
    "            Number of top features to select\n",
    "        \n",
    "        Returns:\n",
    "        --------\n",
    "        dict of selected features\n",
    "        \"\"\"\n",
    "        results = {}\n",
    "        \n",
    "        # Correlation Analysis\n",
    "        if method in ['correlation', 'all']:\n",
    "            correlation = X.apply(lambda x: x.corr(y))\n",
    "            results['correlation'] = correlation.abs().sort_values(ascending=False)\n",
    "        \n",
    "        # Statistical Feature Selection\n",
    "        if method in ['statistical', 'all']:\n",
    "            selector = SelectKBest(score_func=f_classif, k=n_features or len(X.columns))\n",
    "            selector.fit(X, y)\n",
    "            statistical_scores = pd.Series(\n",
    "                selector.scores_, \n",
    "                index=X.columns\n",
    "            ).sort_values(ascending=False)\n",
    "            results['statistical'] = statistical_scores\n",
    "        \n",
    "        # Recursive Feature Elimination\n",
    "        if method in ['rfe', 'all']:\n",
    "            rf = RandomForestClassifier(n_estimators=100, random_state=42)\n",
    "            rfe = RFE(estimator=rf, n_features_to_select=n_features or 3)\n",
    "            rfe.fit(X, y)\n",
    "            rfe_ranking = pd.Series(\n",
    "                rfe.ranking_, \n",
    "                index=X.columns\n",
    "            )\n",
    "            results['rfe'] = rfe_ranking\n",
    "        \n",
    "        # Feature Importance from Random Forest\n",
    "        if method in ['importance', 'all']:\n",
    "            rf = RandomForestClassifier(n_estimators=100, random_state=42)\n",
    "            rf.fit(X, y)\n",
    "            importance = pd.Series(\n",
    "                rf.feature_importances_, \n",
    "                index=X.columns\n",
    "            ).sort_values(ascending=False)\n",
    "            results['importance'] = importance\n",
    "        \n",
    "        return results"
   ],
   "id": "fcb6b0d49a2106c4",
   "outputs": [],
   "execution_count": 17
  },
  {
   "metadata": {},
   "cell_type": "markdown",
   "source": "## 4. Model Training and Evaluation",
   "id": "e1c87ee6be77eb6a"
  },
  {
   "metadata": {
    "ExecuteTime": {
     "end_time": "2024-12-09T21:13:32.503231Z",
     "start_time": "2024-12-09T21:13:32.491329Z"
    }
   },
   "cell_type": "code",
   "source": [
    "def train_model(test_size=0.5, random_state=42):\n",
    "        \"\"\"\n",
    "        Train a Random Forest Classifier and evaluate its performance\n",
    "        \n",
    "        Parameters:\n",
    "        -----------\n",
    "        test_size : float, optional (default=0.2)\n",
    "            Proportion of the dataset to include in the test split\n",
    "        random_state : int, optional (default=42)\n",
    "            Controls the shuffling applied to the data before splitting\n",
    "        \n",
    "        Returns:\n",
    "        --------\n",
    "        Trained model and performance metrics\n",
    "        \"\"\"        \n",
    "        # Split the data\n",
    "        X_train, X_test, y_train, y_test = train_test_split(\n",
    "            X, y, test_size=test_size, random_state=random_state\n",
    "        )\n",
    "        \n",
    "        # Train Random Forest Classifier\n",
    "        rf_classifier = RandomForestClassifier(\n",
    "            n_estimators=5, \n",
    "            random_state=random_state\n",
    "        )\n",
    "        rf_classifier.fit(X_train, y_train)\n",
    "        \n",
    "        # Predictions\n",
    "        y_pred = rf_classifier.predict(X_test)\n",
    "        \n",
    "        # Performance Metrics\n",
    "        metrics = {\n",
    "            'accuracy': accuracy_score(y_test, y_pred),\n",
    "            'precision': precision_score(y_test, y_pred),\n",
    "            'recall': recall_score(y_test, y_pred),\n",
    "            'f1_score': f1_score(y_test, y_pred)\n",
    "        }\n",
    "        \n",
    "        # Detailed Classification Report\n",
    "        print(\"Classification Report:\")\n",
    "        print(classification_report(y_test, y_pred))\n",
    "        \n",
    "        # Confusion Matrix Visualization\n",
    "        cm = confusion_matrix(y_test, y_pred)\n",
    "        plt.figure(figsize=(8, 6))\n",
    "        sns.heatmap(cm, annot=True, fmt='d', cmap='Blues')\n",
    "        plt.title('Confusion Matrix')\n",
    "        plt.xlabel('Predicted')\n",
    "        plt.ylabel('Actual')\n",
    "        plt.tight_layout()\n",
    "        plt.show()\n",
    "        \n",
    "        return rf_classifier, metrics"
   ],
   "id": "eed94bdd15d70320",
   "outputs": [],
   "execution_count": 18
  },
  {
   "metadata": {},
   "cell_type": "markdown",
   "source": "## Example Usage",
   "id": "39f34a315914aabf"
  },
  {
   "metadata": {
    "ExecuteTime": {
     "end_time": "2024-12-09T21:13:35.759406Z",
     "start_time": "2024-12-09T21:13:32.547431Z"
    }
   },
   "cell_type": "code",
   "source": [
    "# Select Features\n",
    "print(\"Feature Selection Results:\")\n",
    "feature_selection = select_features(method='all')\n",
    "for method, results in feature_selection.items():\n",
    "    print(f\"\\n{method.capitalize()} Feature Ranking:\")\n",
    "    print(results)\n",
    "\n",
    "# Train Model and Evaluate\n",
    "print(\"\\nModel Training and Evaluation:\")\n",
    "model, metrics = train_model()\n",
    "print(\"\\nModel Performance Metrics:\")\n",
    "for metric, value in metrics.items():\n",
    "    print(f\"{metric}: {value}\")"
   ],
   "id": "19682a8b00a8b88d",
   "outputs": [
    {
     "name": "stdout",
     "output_type": "stream",
     "text": [
      "Feature Selection Results:\n",
      "\n",
      "Correlation Feature Ranking:\n",
      "churn                                1.000000\n",
      "item_count                           0.396224\n",
      "concat_currency                      0.283722\n",
      "otrs_version                         0.207176\n",
      "concat_volume                        0.138287\n",
      "contract_item_description            0.099275\n",
      "system_type                          0.083214\n",
      "contract_item_product_description    0.078419\n",
      "service_level_regex                  0.063773\n",
      "description                          0.041275\n",
      "customer_country                     0.032769\n",
      "sla                                  0.026735\n",
      "contract_item_concurrent_sessions    0.023878\n",
      "feature_add_ons                      0.023058\n",
      "product_category                     0.014583\n",
      "contract_item_product_category       0.005515\n",
      "dtype: float64\n",
      "\n",
      "Statistical Feature Ranking:\n",
      "churn                                1.159677e+17\n",
      "item_count                           3.836338e+01\n",
      "concat_currency                      1.803432e+01\n",
      "otrs_version                         9.238442e+00\n",
      "concat_volume                        4.016201e+00\n",
      "contract_item_description            2.050446e+00\n",
      "system_type                          1.436414e+00\n",
      "contract_item_product_description    1.274643e+00\n",
      "service_level_regex                  8.412099e-01\n",
      "description                          3.515450e-01\n",
      "customer_country                     2.214457e-01\n",
      "sla                                  1.473513e-01\n",
      "contract_item_concurrent_sessions    1.175169e-01\n",
      "feature_add_ons                      1.095851e-01\n",
      "product_category                     4.381748e-02\n",
      "contract_item_product_category       6.265366e-03\n",
      "dtype: float64\n",
      "\n",
      "Rfe Feature Ranking:\n",
      "contract_item_description             4\n",
      "contract_item_product_category       11\n",
      "contract_item_product_description     7\n",
      "description                           6\n",
      "sla                                  13\n",
      "product_category                     14\n",
      "service_level_regex                  12\n",
      "otrs_version                          2\n",
      "system_type                          10\n",
      "feature_add_ons                       3\n",
      "customer_country                      8\n",
      "concat_currency                       1\n",
      "contract_item_concurrent_sessions     9\n",
      "item_count                            1\n",
      "concat_volume                         5\n",
      "churn                                 1\n",
      "dtype: int32\n",
      "\n",
      "Importance Feature Ranking:\n",
      "churn                                0.595887\n",
      "concat_currency                      0.143303\n",
      "item_count                           0.076376\n",
      "otrs_version                         0.057181\n",
      "feature_add_ons                      0.028410\n",
      "concat_volume                        0.019998\n",
      "description                          0.015336\n",
      "contract_item_description            0.010553\n",
      "system_type                          0.010380\n",
      "contract_item_product_description    0.008859\n",
      "contract_item_concurrent_sessions    0.008029\n",
      "customer_country                     0.007259\n",
      "contract_item_product_category       0.005921\n",
      "service_level_regex                  0.005623\n",
      "sla                                  0.003563\n",
      "product_category                     0.003324\n",
      "dtype: float64\n",
      "\n",
      "Model Training and Evaluation:\n",
      "Classification Report:\n",
      "              precision    recall  f1-score   support\n",
      "\n",
      "           0       1.00      1.00      1.00        57\n",
      "           1       1.00      1.00      1.00        47\n",
      "\n",
      "    accuracy                           1.00       104\n",
      "   macro avg       1.00      1.00      1.00       104\n",
      "weighted avg       1.00      1.00      1.00       104\n",
      "\n"
     ]
    },
    {
     "data": {
      "text/plain": [
       "<Figure size 800x600 with 2 Axes>"
      ],
      "image/png": "[encoded data removed]"
     },
     "metadata": {},
     "output_type": "display_data"
    },
    {
     "name": "stdout",
     "output_type": "stream",
     "text": [
      "\n",
      "Model Performance Metrics:\n",
      "accuracy: 1.0\n",
      "precision: 1.0\n",
      "recall: 1.0\n",
      "f1_score: 1.0\n"
     ]
    }
   ],
   "execution_count": 19
  },
  {
   "metadata": {
    "ExecuteTime": {
     "end_time": "2024-12-09T21:13:35.801430Z",
     "start_time": "2024-12-09T21:13:35.796638Z"
    }
   },
   "cell_type": "code",
   "source": "",
   "id": "f7ae9e53540c0fe",
   "outputs": [],
   "execution_count": null
  }
 ],
 "metadata": {
  "kernelspec": {
   "display_name": "Python 3",
   "language": "python",
   "name": "python3"
  },
  "language_info": {
   "codemirror_mode": {
    "name": "ipython",
    "version": 2
   },
   "file_extension": ".py",
   "mimetype": "text/x-python",
   "name": "python",
   "nbconvert_exporter": "python",
   "pygments_lexer": "ipython2",
   "version": "2.7.6"
  }
 },
 "nbformat": 4,
 "nbformat_minor": 5
}
